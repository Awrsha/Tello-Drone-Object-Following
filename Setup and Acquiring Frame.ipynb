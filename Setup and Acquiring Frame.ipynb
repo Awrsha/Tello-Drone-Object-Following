{
 "cells": [
  {
   "cell_type": "markdown",
   "metadata": {},
   "source": [
    "Setup Drone\n",
    "\n",
    "In this Tutorial we are going to program a drone to track a face. We will do this using opencv and apply a PID controller to have smooth movements.\n",
    "\n",
    "First we will create a utilities file in which we will add all the functions. Then we will import all the tello and the cv2 packages."
   ]
  },
  {
   "cell_type": "code",
   "execution_count": null,
   "metadata": {},
   "outputs": [],
   "source": [
    "from djitellopy\n",
    "import Telloimport cv2"
   ]
  },
  {
   "cell_type": "markdown",
   "metadata": {},
   "source": [
    "Then we will create the tello intitialization function that will setup the tello drone for flight and send commands. We will set all the speed to 0. We have 4 types of speeds\n",
    "\n",
    "* Forward Backwards\n",
    "* Left Right\n",
    "* Up Down\n",
    "* Yaw (rotation)"
   ]
  },
  {
   "cell_type": "code",
   "execution_count": null,
   "metadata": {},
   "outputs": [],
   "source": [
    "def intializeTello():\n",
    "# CONNECT TO TELLO\n",
    "myDrone = Tello()\n",
    "myDrone.connect()\n",
    "myDrone.for_back_velocity = 0\n",
    "myDrone.left_right_velocity = 0\n",
    "myDrone.up_down_velocity = 0\n",
    "myDrone.yaw_velocity = 0\n",
    "myDrone.speed =0\n",
    "print(myDrone.get_battery())\n",
    "myDrone.streamoff()\n",
    "myDrone.streamon()\n",
    "return myDrone"
   ]
  },
  {
   "cell_type": "markdown",
   "metadata": {},
   "source": [
    "Now we will call this function in the main script."
   ]
  },
  {
   "cell_type": "code",
   "execution_count": null,
   "metadata": {},
   "outputs": [],
   "source": [
    "myDrone = intializeTello()"
   ]
  },
  {
   "cell_type": "markdown",
   "metadata": {},
   "source": [
    "Get Frame from Drone\n",
    "Once we have setup the tello drone we will get the frame/image from it. We will create a simple function for this, that will take the drone object as the input argument and return the current image."
   ]
  },
  {
   "cell_type": "code",
   "execution_count": null,
   "metadata": {},
   "outputs": [],
   "source": [
    "def telloGetFrame(myDrone,w=360,h=240):\n",
    "# GET THE IMGAE FROM TELLO\n",
    "myFrame = myDrone.get_frame_read()\n",
    "myFrame = myFrame.frame\n",
    "img = cv2.resize(myFrame, (w, h))\n",
    "return img"
   ]
  },
  {
   "cell_type": "markdown",
   "metadata": {},
   "source": [
    "Now we will call this function inside a while loop."
   ]
  },
  {
   "cell_type": "code",
   "execution_count": null,
   "metadata": {},
   "outputs": [],
   "source": [
    "while True:\n",
    "## STEP 1\n",
    "img = telloGetFrame(myDrone)\n",
    "# DISPLAY IMAGE\n",
    "cv2.imshow(\"MyResult\", img)\n",
    "# WAIT FOR THE 'Q' BUTTON TO STOP\n",
    "if cv2.waitKey(1) and 0xFF == ord('q'):\n",
    "# replace the 'and' with '&amp;' \n",
    "myDrone.land()\n",
    "break"
   ]
  }
 ],
 "metadata": {
  "language_info": {
   "name": "python"
  }
 },
 "nbformat": 4,
 "nbformat_minor": 2
}
