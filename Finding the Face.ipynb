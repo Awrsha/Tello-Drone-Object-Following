{
 "cells": [
  {
   "cell_type": "markdown",
   "metadata": {},
   "source": [
    "Once we get the frames form the drone, then its time to find the faces in our image. We will create a function for this in the utilities file. We will be using the viola jones method to find the faces, so we have first get the haarcascade xml file. This will be added in the main directory. Now we can load this file and detect the faces.\n",
    "\n"
   ]
  },
  {
   "cell_type": "code",
   "execution_count": null,
   "metadata": {},
   "outputs": [],
   "source": [
    "def findFace(img):\n",
    "faceCascade = cv2.CascadeClassifier(\"haarcascade_frontalface_default.xml\")\n",
    "imgGray = cv2.cvtColor(img, cv2.COLOR_BGR2GRAY)\n",
    "faces = faceCascade.detectMultiScale(imgGray, 1.1, 4)"
   ]
  },
  {
   "cell_type": "markdown",
   "metadata": {},
   "source": [
    "Now that we have the faces we will find their coordinates and display it on the image."
   ]
  },
  {
   "cell_type": "code",
   "execution_count": null,
   "metadata": {},
   "outputs": [],
   "source": [
    "for (x, y, w, h) in faces:\n",
    "cv2.rectangle(img, (x, y), (x + w, y + h), (255, 0, 0), 2)"
   ]
  },
  {
   "cell_type": "markdown",
   "metadata": {},
   "source": [
    "Once we have all the faces we will target one of them and use its coordinates to operate the drone. We will first create empty lists in which we will add the Center points of the detected faces and their areas."
   ]
  },
  {
   "cell_type": "code",
   "execution_count": null,
   "metadata": {},
   "outputs": [],
   "source": [
    "myFacesListC = []\n",
    "myFaceListArea = []"
   ]
  },
  {
   "cell_type": "markdown",
   "metadata": {},
   "source": [
    "Then we will find the center point and the area of each face and add this to our list"
   ]
  },
  {
   "cell_type": "code",
   "execution_count": null,
   "metadata": {},
   "outputs": [],
   "source": [
    "for (x, y, w, h) in faces:\n",
    "cv2.rectangle(img, (x, y), (x + w, y + h), (255, 0, 0), 2)\n",
    "cx = x + w//2\n",
    "cy = y + h//2\n",
    "area = w*h\n",
    "myFacesListC.append([cx,cy])\n",
    "myFaceListArea.append(area)"
   ]
  },
  {
   "cell_type": "markdown",
   "metadata": {},
   "source": [
    "Once we have all the faces we will find the closest one and return its coordinates. If no faces are found we will return 0."
   ]
  },
  {
   "cell_type": "code",
   "execution_count": null,
   "metadata": {},
   "outputs": [],
   "source": [
    "if len(myFaceListArea) != 0:\n",
    "i = myFaceListArea.index(max(myFaceListArea))\n",
    "# index of closest face\n",
    "return img,[myFacesListC[i],myFaceListArea[i]]\n",
    "else:\n",
    "return img, [[0,0],0]"
   ]
  },
  {
   "cell_type": "markdown",
   "metadata": {},
   "source": [
    "Lastly we will call this function in the main script"
   ]
  },
  {
   "cell_type": "code",
   "execution_count": null,
   "metadata": {},
   "outputs": [],
   "source": [
    "## STEP 2\n",
    "img, c = findFace(img)"
   ]
  }
 ],
 "metadata": {
  "language_info": {
   "name": "python"
  }
 },
 "nbformat": 4,
 "nbformat_minor": 2
}
