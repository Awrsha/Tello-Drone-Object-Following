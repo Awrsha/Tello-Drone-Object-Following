{
 "cells": [
  {
   "cell_type": "markdown",
   "metadata": {},
   "source": [
    "To track the face we will create a function that will use the information of the face and try to follow it. We could simply assgin a value of speed but instead we will be using varying speed based on how far the face is. This can be achieved using PID controller. We will only use the Propotional and Derivative part of the controller."
   ]
  },
  {
   "cell_type": "markdown",
   "metadata": {},
   "source": [
    "PID Controller"
   ]
  },
  {
   "cell_type": "code",
   "execution_count": null,
   "metadata": {},
   "outputs": [],
   "source": [
    "def trackFace(myDrone,c,w,pid,pError):\n",
    "print(c)\n",
    "## PIDerror = c[0][0] - w//2   \n",
    "# Current Value - Target Value\n",
    "speed = int(pid[0]*error + pid[1] * (error-pError))"
   ]
  },
  {
   "cell_type": "markdown",
   "metadata": {},
   "source": [
    "Sending Rotation to Drone"
   ]
  },
  {
   "cell_type": "markdown",
   "metadata": {},
   "source": [
    "Once we have the speed value we can send it to the drone. But before we do that we will just make sure that the face is detected."
   ]
  },
  {
   "cell_type": "code",
   "execution_count": null,
   "metadata": {},
   "outputs": [],
   "source": [
    "if c[0][0] != 0:\n",
    "myDrone.yaw_velocity = speed\n",
    "else:\n",
    "myDrone.left_right_velocity = 0\n",
    "myDrone.for_back_velocity = 0\n",
    "myDrone.up_down_velocity = 0\n",
    "myDrone.yaw_velocity = 0\n",
    "error = 0\n",
    "# SEND VELOCITY VALUES TO TELLO\n",
    "if myDrone.send_rc_control:\n",
    "myDrone.send_rc_control(myDrone.left_right_velocity,myDrone.for_back_velocity,\n",
    "myDrone.up_down_velocity, myDrone.yaw_velocity)"
   ]
  },
  {
   "cell_type": "markdown",
   "metadata": {},
   "source": [
    "Now we will return the error since we will need it for the calculation of the Derivative part of the PID controller in the next frame.\n",
    "\n"
   ]
  },
  {
   "cell_type": "code",
   "execution_count": null,
   "metadata": {},
   "outputs": [],
   "source": [
    "return error"
   ]
  },
  {
   "cell_type": "markdown",
   "metadata": {},
   "source": [
    "Lastly we will call this function in the main script."
   ]
  },
  {
   "cell_type": "code",
   "execution_count": null,
   "metadata": {},
   "outputs": [],
   "source": [
    "## STEP 3\n",
    "pError = trackFace(myDrone,c,w,pid,pError)"
   ]
  }
 ],
 "metadata": {
  "language_info": {
   "name": "python"
  }
 },
 "nbformat": 4,
 "nbformat_minor": 2
}
